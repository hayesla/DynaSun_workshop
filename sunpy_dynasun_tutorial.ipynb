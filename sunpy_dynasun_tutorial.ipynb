{
 "cells": [
  {
   "cell_type": "markdown",
   "id": "d66b36c1-0801-442f-9f7d-2874a25ef94b",
   "metadata": {},
   "source": [
    "# SunPy Tutorial DynaSun<img src=\"https://raw.githubusercontent.com/sunpy/sunpy.org/main/_static/img/sunpy_icon.svg\" alt=\"logo\" width=\"100\" align=\"right\"/>\n",
    "\n",
    "In this tutorial we will go through an overview of some of the functionality available through the sunpy ecosystem.\n",
    "\n",
    "In this notebook we'll go through an introduction of how we can use sunpy and other scientific packages such as astropy etc to perform solar data analysis. We'll focus on how to search and query data, download data, load data into different containers, overview the powerful functionality of the coordinate framework, and how to plot and manipulate data.\n",
    "\n",
    "\n",
    "1. Data Search and Download\n",
    "2. TimeSeries and Maps\n",
    "3. Coordinates!\n",
    "4. Fun things we can do - an oscillation example."
   ]
  },
  {
   "cell_type": "markdown",
   "id": "fcc3f894-d9e2-4ee0-a8c5-1e7e358e3e1e",
   "metadata": {},
   "source": [
    "### Import the packages we'll use in this notebook"
   ]
  },
  {
   "cell_type": "code",
   "execution_count": null,
   "id": "4f62f61a-d741-4f19-b7ef-0daab46b60c5",
   "metadata": {},
   "outputs": [],
   "source": [
    "from sunpy.net import Fido, attrs as a\n",
    "import sunpy.map\n",
    "from sunpy.time import parse_time\n",
    "import sunpy.timeseries\n",
    "import sunpy.data.sample\n",
    "from sunpy.coordinates import frames, get_horizons_coord, get_body_heliographic_stonyhurst\n",
    "from sunpy.coordinates import SphericalScreen\n",
    "import sunpy_soar\n",
    "\n",
    "from astropy import units as u \n",
    "from astropy.coordinates import SkyCoord\n",
    "from astropy.visualization import AsymmetricPercentileInterval, ImageNormalize, LogStretch, AsinhStretch\n",
    "from scipy.interpolate import interp1d\n",
    "\n",
    "import numpy as np\n",
    "import matplotlib.pyplot as plt\n",
    "from matplotlib import colors\n",
    "from matplotlib import dates"
   ]
  },
  {
   "cell_type": "markdown",
   "id": "a721189a-2a50-4cdc-95fb-db06ee2dc842",
   "metadata": {},
   "source": [
    "# A note on units - using astropy Units\n",
    "\n",
    "[`astropy.units`](https://docs.astropy.org/en/stable/units/) provides a means to deal with and handle numbers/arrays etc that have an associated physical quantity (e.g. km, seconds, Kelvin). Throughout SunPy, any physical input or outputs is an [`astropy.Quantity`](https://docs.astropy.org/en/stable/units/quantity.html#quantity). Lets look at how we can create and convert between astropy units. Above we have imported `astropy.units` as `u`"
   ]
  },
  {
   "cell_type": "code",
   "execution_count": null,
   "id": "2ab7ad71-dc3e-403d-8add-bb40c17946ad",
   "metadata": {},
   "outputs": [],
   "source": [
    "distance_in_km = 10*u.km"
   ]
  },
  {
   "cell_type": "code",
   "execution_count": null,
   "id": "c6b636e1-9a92-4a3c-8d75-d1f557f51d6d",
   "metadata": {},
   "outputs": [],
   "source": [
    "distance_in_km"
   ]
  },
  {
   "cell_type": "code",
   "execution_count": null,
   "id": "6c3f161d-7302-468a-a284-a9470091748d",
   "metadata": {},
   "outputs": [],
   "source": [
    "distance_in_km.value"
   ]
  },
  {
   "cell_type": "code",
   "execution_count": null,
   "id": "a3357db5-9fcd-4204-9e80-5517c27e4b26",
   "metadata": {},
   "outputs": [],
   "source": [
    "distance_in_km.cgs"
   ]
  },
  {
   "cell_type": "markdown",
   "id": "ce0de574-db7d-45a8-8066-f912ea1e8609",
   "metadata": {},
   "source": [
    "We can convert between units e.g."
   ]
  },
  {
   "cell_type": "code",
   "execution_count": null,
   "id": "66d2d743-4559-47c0-aa7e-3cc37246d669",
   "metadata": {},
   "outputs": [],
   "source": [
    "distance_in_km.to(u.parsec)"
   ]
  },
  {
   "cell_type": "code",
   "execution_count": null,
   "id": "8216a896-fa78-4386-9803-e8f3650ed939",
   "metadata": {},
   "outputs": [],
   "source": [
    "# distance_in_km.to(u.s)"
   ]
  },
  {
   "cell_type": "code",
   "execution_count": null,
   "id": "863bc7b3-11cb-42d8-8391-b64a676a3fe3",
   "metadata": {},
   "outputs": [],
   "source": [
    "time_in_sec = 60*u.s\n",
    "distance_in_km/time_in_sec"
   ]
  },
  {
   "cell_type": "markdown",
   "id": "37eab5e3-3ca7-41fd-a40b-fabad31ed965",
   "metadata": {},
   "source": [
    "# A note about coordinates framework used - astropy SkyCoord and frames"
   ]
  },
  {
   "cell_type": "markdown",
   "id": "4d8785a9-5291-447a-aa29-c550f0443e66",
   "metadata": {},
   "source": [
    "In much the same way as units are used for representing physical quantities, sunpy uses astropy.coordinates to represent points in physical space. This applies to both points in 3D space and projected coordinates in images. `sunpy` extends the `astropy.coordinates` framework by adding additional solar-specific coordinate frames and the accompanying transformations between them.\n",
    "\n",
    "The astropy coordinates module is primarily used through the [`SkyCoord`](https://docs.astropy.org/en/stable/api/astropy.coordinates.SkyCoord.html#astropy.coordinates.SkyCoord)  class, which also makes use of the astropy units system:\n",
    "\n",
    "A **coordinate** combines position data with a coordinate frame, and a SkyCoord object is created by passing in positions with specified units and a coordinate frame. Above in the imports cell we've imported [`sunpy.coordinates.frames`](https://docs.sunpy.org/en/stable/code_ref/coordinates/index.html#supported-coordinate-systems) which allow us to use solar physics specific frames such as Helioprojective, Heliographic Stonyhurst, Heliocentric etc. \n",
    "\n",
    "Lets create a point on the Sun in lat and long in the Heliographic Stonyhurst coordinate system"
   ]
  },
  {
   "cell_type": "code",
   "execution_count": null,
   "id": "1e4a8811-f7ce-4a7f-84f4-2d8857d344d5",
   "metadata": {},
   "outputs": [],
   "source": [
    "hgs_coord = SkyCoord(70*u.deg, -30*u.deg, obstime=\"2017-08-01\",\n",
    "                 frame=frames.HeliographicStonyhurst)"
   ]
  },
  {
   "cell_type": "code",
   "execution_count": null,
   "id": "4cfc0156-069e-4eec-8dbd-e627c9fb720e",
   "metadata": {},
   "outputs": [],
   "source": [
    "hgs_coord"
   ]
  },
  {
   "cell_type": "code",
   "execution_count": null,
   "id": "d449105c-4292-4307-bdda-01a3ffea8ce3",
   "metadata": {},
   "outputs": [],
   "source": [
    "hgs_coord.transform_to(frames.Helioprojective(observer=\"earth\"))"
   ]
  },
  {
   "cell_type": "code",
   "execution_count": null,
   "id": "98abdcb4-ed4d-45dd-ba18-812f0ed55db9",
   "metadata": {},
   "outputs": [],
   "source": [
    "hgs_coord.transform_to(\"icrs\")"
   ]
  },
  {
   "cell_type": "markdown",
   "id": "916aba08-27c0-40ff-b8ad-6f806f2a3c0b",
   "metadata": {},
   "source": [
    "SkyCoord and all coordinate frames support array coordinates. These work the same as single-value coordinates, but they store multiple coordinates in a single object. When you’re going to apply the same operation to many different coordinates, this is a better choice than a list of SkyCoord objects, because it will be much faster than applying the operation to each SkyCoord in a for loop:"
   ]
  },
  {
   "cell_type": "code",
   "execution_count": null,
   "id": "68193605-7e1e-402e-8b1d-5746679a9038",
   "metadata": {},
   "outputs": [],
   "source": [
    "coord = SkyCoord([-500, 400]*u.arcsec, [100, 200]*u.arcsec, frame=frames.Helioprojective)\n",
    "coord"
   ]
  },
  {
   "cell_type": "markdown",
   "id": "0c3faba9-963c-4339-9858-1f4b71ad9250",
   "metadata": {},
   "source": [
    "## A quick note about observer location!"
   ]
  },
  {
   "cell_type": "markdown",
   "id": "0e856181-515f-4645-80c9-9446dff8cfc1",
   "metadata": {},
   "source": [
    "Both Helioprojective and Heliocentric frames are defined based on the position of the observer. Therefore to transform either of these frames to a different frame the location of the observer must be known. The observer can be specified for a coordinate object using the observer argument to SkyCoord. For sunpy to calculate the location of Earth or another solar-system body, it must know the time associated with the coordinate; this is specified with the obstime argument."
   ]
  },
  {
   "cell_type": "code",
   "execution_count": null,
   "id": "ab73711b-5397-4c77-92ba-09b411863ed1",
   "metadata": {},
   "outputs": [],
   "source": [
    "hpc = SkyCoord(0*u.arcsec, 0*u.arcsec, observer=\"earth\",\n",
    "                obstime=\"2022-03-01\",\n",
    "                frame=frames.Helioprojective)"
   ]
  },
  {
   "cell_type": "code",
   "execution_count": null,
   "id": "3bc194dc-4adc-4acc-a4cd-0df154722c26",
   "metadata": {},
   "outputs": [],
   "source": [
    "hpc.transform_to(frames.Helioprojective(observer=\"venus\"))"
   ]
  },
  {
   "cell_type": "code",
   "execution_count": null,
   "id": "8354a986-de54-4da7-9719-9a9d18b64971",
   "metadata": {},
   "outputs": [],
   "source": [
    "solo_coord = get_horizons_coord(\"solo\", \"2022-03-01\")"
   ]
  },
  {
   "cell_type": "code",
   "execution_count": null,
   "id": "a9008b6f-71fd-4c80-b5ee-fa66cc3abfca",
   "metadata": {},
   "outputs": [],
   "source": [
    "hpc.transform_to(frames.Helioprojective(observer=solo_coord))"
   ]
  },
  {
   "cell_type": "markdown",
   "id": "08111528-b8c3-4580-9a31-5922d5cc3f5e",
   "metadata": {},
   "source": [
    "# 1. Overview of Fido Unified Downloader\n",
    "Fido is sunpy's interface for searching and downloading solar physics data.\n",
    "It offers a unified interface for searching and fetching data irrespective of the underlying client or webservice from where the data is obtained.\n",
    "You can also search and accesses multiple instruments and all available data providers in a single query.\n",
    "It supplies a single, easy, consistent and extendable way to get most forms of solar physics data the community need.\n",
    "\n",
    "For more information about Fido and how to use it check out the documentation on our website: https://docs.sunpy.org/en/stable/tutorial/acquiring_data/index.html\n",
    "\n",
    "Fido offers access to data available through:\n",
    "\n",
    "* VSO\n",
    "* JSOC (through drms)\n",
    "* Individual data providers from web accessible sources (http, ftp, etc)\n",
    "* HEK\n",
    "* HELIO\n",
    "  \n",
    "As described here Fido provides access to many sources of data through different clients, these clients can be defined inside sunpy or in other packages (e.g. DKIST data can be accessed using Fido through [DKIST User Tools](https://docs.dkist.nso.edu/projects/python-tools/en/latest/tutorial/2_search_and_asdf_download.html).\n",
    "\n",
    "#### Importantly, Solar Orbiter data can be accessed through the client defined in the `sunpy_soar` affiliated package. "
   ]
  },
  {
   "cell_type": "markdown",
   "id": "e25271c9-46af-4509-8786-2eed6a6c9c51",
   "metadata": {},
   "source": [
    "Lets inspect what instrument and clients are available through Fido. "
   ]
  },
  {
   "cell_type": "code",
   "execution_count": null,
   "id": "2f5bb27d-6f5a-4386-996a-661b21495b12",
   "metadata": {},
   "outputs": [],
   "source": [
    "Fido"
   ]
  },
  {
   "cell_type": "code",
   "execution_count": null,
   "id": "91635cf8-b419-4fac-8cf7-b6a9e06dab51",
   "metadata": {},
   "outputs": [],
   "source": [
    "# a.Provider"
   ]
  },
  {
   "cell_type": "markdown",
   "id": "251ba5c4-b74c-493d-931a-c5077e9a7239",
   "metadata": {},
   "source": [
    "## 1.1 Using attributes to search for data with Fido\n",
    "\n",
    "Sunpy uses specified *attributes* to search for data using Fido. The range of these attributes is located in the `attrs` submodule. These `attr` parameters can be combined together to construct data search queries, such as searching over a certain time period, for data from a certain instrument with a certain wavelength etc.\n",
    "\n",
    "Different clients and provides will have client-specific attributes, but the core attributes are:\n",
    "\n",
    "* `a.Time`\n",
    "* `a.Instrument`\n",
    "* `a.Wavelength`\n",
    "\n",
    "\n",
    "Lets look at how these attributes work in more detail.\n",
    "\n",
    "First we can look at a.Time, which is used to specify the timerange of a query."
   ]
  },
  {
   "cell_type": "code",
   "execution_count": null,
   "id": "ace87db8-49ca-4f20-9c42-712098caac87",
   "metadata": {},
   "outputs": [],
   "source": [
    "a.Time(\"2021-05-23 02:00\", \"2021-05-23 04:00\")"
   ]
  },
  {
   "cell_type": "code",
   "execution_count": null,
   "id": "f49b5527-3d9a-48e9-b52a-b7b4d039854b",
   "metadata": {},
   "outputs": [],
   "source": [
    "a.Instrument.aia"
   ]
  },
  {
   "cell_type": "markdown",
   "id": "7c398fb2-0c01-4dc2-a200-18296b960504",
   "metadata": {},
   "source": [
    "To search for certain wavelengths, we need to specify the input as an `astropy Quantity` which is a the combination of a value and an associated unit. This is something is universal in the sunpy stack - that every physical input/output is a `Quantity`."
   ]
  },
  {
   "cell_type": "code",
   "execution_count": null,
   "id": "cb226a28-437e-41e1-b3da-467dbed0a01b",
   "metadata": {},
   "outputs": [],
   "source": [
    "a.Wavelength(17.1*u.angstrom)"
   ]
  },
  {
   "cell_type": "markdown",
   "id": "64bf42fa-43ec-4399-a5c1-1f41a1d75618",
   "metadata": {},
   "source": [
    "## 1.2 Constructing a search query\n",
    " ### A simple query\n",
    "\n",
    "Lets create a simple query to search for data from AIA over a particular time period"
   ]
  },
  {
   "cell_type": "code",
   "execution_count": null,
   "id": "eec4ded4-4cdf-4ded-a33f-8ea3395401ca",
   "metadata": {},
   "outputs": [],
   "source": [
    "result = Fido.search(a.Time(\"2022-03-28 11:00\", \"2022-03-28 12:00\"), \n",
    "                     a.Instrument(\"AIA\"))"
   ]
  },
  {
   "cell_type": "markdown",
   "id": "cc97f810-bcc9-4a06-b8f9-60f4f9277ebc",
   "metadata": {},
   "source": [
    "Now lets make our query a bit more specific, say, say we only want one wavelength band from AIA. This can be achieved by specifying the `Wavelength` attribute within the search. The `a.Wavelength` attribute is passed as an `astropy.Quantity`:"
   ]
  },
  {
   "cell_type": "code",
   "execution_count": null,
   "id": "ae0fdc09-59d3-4f23-90f0-e6de59718732",
   "metadata": {},
   "outputs": [],
   "source": [
    "result = Fido.search(a.Time(\"2022-04-02 12:00\", \"2022-04-02 13:00\"), \n",
    "                     a.Instrument(\"AIA\"), \n",
    "                     a.Wavelength(304*u.angstrom))"
   ]
  },
  {
   "cell_type": "markdown",
   "id": "905b12f3-a172-4764-8506-9db43ec5ada0",
   "metadata": {},
   "source": [
    "We can also further specify this query to only search for 10 minute sampling data"
   ]
  },
  {
   "cell_type": "code",
   "execution_count": null,
   "id": "3f2df056-0ab6-4e8f-bbc2-d08c3c7c7183",
   "metadata": {},
   "outputs": [],
   "source": [
    "result = Fido.search(a.Time(\"2022-04-02 12:00\", \"2022-04-02 13:00\"), \n",
    "                     a.Instrument(\"AIA\"), \n",
    "                     a.Wavelength(304*u.angstrom), \n",
    "                     a.Sample(10*u.min))"
   ]
  },
  {
   "cell_type": "code",
   "execution_count": null,
   "id": "203d75bc-9b4a-4172-868a-2dc0024c0eb2",
   "metadata": {},
   "outputs": [],
   "source": [
    "result"
   ]
  },
  {
   "cell_type": "code",
   "execution_count": null,
   "id": "ef5b008a-f342-45a2-90bb-9284bc3fbced",
   "metadata": {},
   "outputs": [],
   "source": [
    "result[0][0]"
   ]
  },
  {
   "cell_type": "markdown",
   "id": "a4251430-fdc3-43cb-a2b8-f429f07f1d61",
   "metadata": {},
   "source": [
    "## 1.3 Downloading the data\n",
    "\n",
    "Now we can show how data that is queried above can be downloaded. Once the data you have searched for (and filtered etc) is constructed into a query using `Fido.search`, you can then easily download them using `Fido.fetch`.\n",
    "\n",
    "The data is downloaded via asynchronous and parallel download streams (via parfive), and also allows for failed data downloads to be recognized so that files can be re-requested if not downloaded.\n",
    "\n",
    "Lets now look at how a `UnifiedResponse` from a `Fido.search` can be passed to `Fido.fetch` to download the data"
   ]
  },
  {
   "cell_type": "code",
   "execution_count": null,
   "id": "85e8edf5-c1aa-4a08-a6a0-fbe79f02d277",
   "metadata": {},
   "outputs": [],
   "source": [
    "f = Fido.fetch(result[0][0])"
   ]
  },
  {
   "cell_type": "markdown",
   "id": "27894a26-c301-4d9b-8ba1-54a216cdedad",
   "metadata": {},
   "source": [
    "### Making combined queries - for example, we can search for AIA, Solar Orbiter, and GOES-XRS data\n",
    "\n",
    "In addition to making a query to one client for one instrument, Fido allows the flexibility to search for data from multiple instruments, wavelengths, times etc, even when the data is being obtained through different clients.\n",
    "\n",
    "This query can be constructed by using the pipe `|` operator, which joins queries together just like the OR operator."
   ]
  },
  {
   "cell_type": "code",
   "execution_count": null,
   "id": "bbd84d19-c4e5-499f-ad46-d68ad61c07a5",
   "metadata": {},
   "outputs": [],
   "source": [
    "combined_res = Fido.search(a.Time(\"2022-04-02 12:00\", \"2022-04-02 14:30\"),\n",
    "                       (a.Instrument.aia & a.Wavelength(171*u.angstrom) & a.Sample(10*u.min)) | \n",
    "                       (a.Instrument.eui & a.Level(2) & a.soar.Product(\"EUI-FSI174-IMAGE\")) | \n",
    "                       (a.Instrument.xrs & a.goes.SatelliteNumber(16) & a.Resolution.flx1s))"
   ]
  },
  {
   "cell_type": "code",
   "execution_count": null,
   "id": "8d6dcfc3-cf47-4b18-964d-ebc8fba31c75",
   "metadata": {},
   "outputs": [],
   "source": [
    "combined_res"
   ]
  },
  {
   "cell_type": "code",
   "execution_count": null,
   "id": "c24e75f5-843d-4def-9e71-8a29b31ab74c",
   "metadata": {},
   "outputs": [],
   "source": [
    "# Fido.fetch(combined_res, path=\"./{instrument}/{file}\")"
   ]
  },
  {
   "cell_type": "markdown",
   "id": "8d1e6f95-c2d2-4bcc-8ed9-ac00e9a129dd",
   "metadata": {},
   "source": [
    "2 . Data Containers\n",
    "=============\n",
    "\n",
    "Now we have seen how we can search for and download data - lets now look at how we can read this data in.\n",
    "\n",
    "SunPy provides core data type classes that are designed to provide a consistent interface across data types (timeseries and images) as well as data sources from numerous instruments and observations. They handle all of the manipulation necessary to read data in from mission-specific files. The two main datatypes in SunPy are the `TimeSeries` and `Map` classes."
   ]
  },
  {
   "cell_type": "markdown",
   "id": "3d8a9d34-d665-42b7-8c5e-ac1146c87d99",
   "metadata": {},
   "source": [
    "## 2.1 TimeSeries\n",
    "\n",
    "The structure of a [`TimeSeries`](https://docs.sunpy.org/en/stable/guide/data_types/timeseries.html) consists of times and measurements and the underlying structure is that of a `pandas.DataFrame`. \n",
    "\n",
    "SunPy TimeSeries supports time-series data from a wide range of solar-focused instruments. `TimeSeries` can either be created manually or from source files that are currently supported. If a supported file is passed to `TimeSeries` it will automatically detect its source and its instrument-specific meta data will be loaded. \n",
    "\n",
    "Lets create a timeseries from out sample data which is X-ray flux from the GOES X-ray Sensor Data. This data file was downloaded locally in the steps above! "
   ]
  },
  {
   "cell_type": "code",
   "execution_count": null,
   "id": "34671b62-3db0-4b17-9d1a-82b18adff53c",
   "metadata": {},
   "outputs": [],
   "source": [
    "xrs_file = sunpy.data.sample.GOES_XRS_TIMESERIES"
   ]
  },
  {
   "cell_type": "code",
   "execution_count": null,
   "id": "c83b11db-2e5d-4d74-a919-d6f7ec55100f",
   "metadata": {},
   "outputs": [],
   "source": [
    "xrs_file"
   ]
  },
  {
   "cell_type": "code",
   "execution_count": null,
   "id": "aea8d01f-bee4-4058-a0e6-e0c49c74871b",
   "metadata": {},
   "outputs": [],
   "source": [
    "xrs = sunpy.timeseries.TimeSeries(xrs_file)"
   ]
  },
  {
   "cell_type": "code",
   "execution_count": null,
   "id": "22d761c2-aefb-4c67-a564-d9110b718405",
   "metadata": {},
   "outputs": [],
   "source": [
    "xrs.plot()"
   ]
  },
  {
   "cell_type": "code",
   "execution_count": null,
   "id": "8ba050f3-dd07-442f-a3c7-4b8cbf5de55e",
   "metadata": {},
   "outputs": [],
   "source": [
    "xrs.units"
   ]
  },
  {
   "cell_type": "code",
   "execution_count": null,
   "id": "f3874417-6d6a-4557-bb73-39600e9714cb",
   "metadata": {},
   "outputs": [],
   "source": [
    "xrs.meta"
   ]
  },
  {
   "cell_type": "code",
   "execution_count": null,
   "id": "5c417a84-40b5-418e-aa02-a87ef1b3e8d4",
   "metadata": {},
   "outputs": [],
   "source": [
    "xrs.to_dataframe()"
   ]
  },
  {
   "cell_type": "markdown",
   "id": "a0c7e419-ac8b-4df9-a95b-fe182cf87021",
   "metadata": {},
   "source": [
    "## Manipulating the timeseries data\n",
    "\n",
    "We can manipulate the timeseries, such as truncating (slicing) the data over a certain time period"
   ]
  },
  {
   "cell_type": "code",
   "execution_count": null,
   "id": "49be6191-c443-4e6f-9e6a-33d58498f299",
   "metadata": {},
   "outputs": [],
   "source": [
    "goes_flare = xrs.truncate(\"2011-06-07 05:00\", \"2011-06-07 09:00\")\n",
    "goes_flare.plot()"
   ]
  },
  {
   "cell_type": "code",
   "execution_count": null,
   "id": "ef2e3dcd-3657-4fc5-8611-ba054f3b3e26",
   "metadata": {},
   "outputs": [],
   "source": [
    "xrs_df = xrs.to_dataframe()"
   ]
  },
  {
   "cell_type": "code",
   "execution_count": null,
   "id": "03e72ace-93dc-4122-bd09-860494b0e6e2",
   "metadata": {},
   "outputs": [],
   "source": [
    "xrs_df.plot()\n",
    "plt.yscale(\"log\")"
   ]
  },
  {
   "cell_type": "code",
   "execution_count": null,
   "id": "0dbd3760-7a9b-41f4-ab2c-29880f9895aa",
   "metadata": {},
   "outputs": [],
   "source": [
    "xrs_df_resample = xrs_df.resample(\"60s\").mean()\n",
    "xrs_df_resample[[\"xrsa\", \"xrsb\"]].plot()\n",
    "plt.yscale(\"log\")"
   ]
  },
  {
   "cell_type": "markdown",
   "id": "59c9d0ee-3374-435d-81f1-31cb60fe56f1",
   "metadata": {},
   "source": [
    "# 2.2 Map\n",
    "The sunpy [`Map`](https://docs.sunpy.org/en/stable/guide/data_types/maps.html) class provides the data type structure to store 2-dimensional data associated with a coordinate system.  This allows users to store and manipulate images of the Sun and the heliosphere.\n",
    "\n",
    "The result of a call to Map will be either a `GenericMap` object, or a subclass of `GenericMap` which either deals with a specific type of data, e.g. `AIAMap` or `LASCOMap` (see sunpy.map Package to see a list of all of them), or if no instrument matches, a 2D map GenericMap.\n",
    "\n",
    "Maps from all instruments are created using the `sunpy.map.Map` 'factory'. This class takes a wide variety of map-like inputs, for one or more maps and returns you one or many maps. All maps, irrespective of the instrument, behave the same and expose the same functions and properties, however, depending on the instrument different metadata might be read or corrections made."
   ]
  },
  {
   "cell_type": "code",
   "execution_count": null,
   "id": "06e967b9-8b4e-49cd-80d1-c83d9906a676",
   "metadata": {},
   "outputs": [],
   "source": [
    "aia_file = sunpy.data.sample.AIA_171_IMAGE\n",
    "aia_file"
   ]
  },
  {
   "cell_type": "code",
   "execution_count": null,
   "id": "1b26d503-fc0e-45f4-8a96-51b1b7532347",
   "metadata": {},
   "outputs": [],
   "source": [
    "aia_map = sunpy.map.Map(aia_file)"
   ]
  },
  {
   "cell_type": "code",
   "execution_count": null,
   "id": "885d39fa-2c88-4e27-be3b-47afa33fc69d",
   "metadata": {},
   "outputs": [],
   "source": [
    "type(aia_map)"
   ]
  },
  {
   "cell_type": "code",
   "execution_count": null,
   "id": "61a6a642-f69f-4a2b-b2d4-beeeb17993ab",
   "metadata": {},
   "outputs": [],
   "source": [
    "aia_map"
   ]
  },
  {
   "cell_type": "markdown",
   "id": "e08dd1e1-d872-4599-9201-efcda3b0a3b1",
   "metadata": {},
   "source": [
    "`Map` provides customized loaders for a number of different instruments, however, if the data file follows the FITS data standards for coordinate information etc then map should be able to read it by default."
   ]
  },
  {
   "cell_type": "code",
   "execution_count": null,
   "id": "8f10bcb8-e251-4f52-ac32-a3f50260c27e",
   "metadata": {},
   "outputs": [],
   "source": [
    "fig = plt.figure()\n",
    "aia_map.plot(clip_interval=[5, 99.8]*u.percent)"
   ]
  },
  {
   "cell_type": "code",
   "execution_count": null,
   "id": "14205d9a-a399-444b-b81c-fd1de97a5940",
   "metadata": {},
   "outputs": [],
   "source": [
    "fig = plt.figure()\n",
    "aia_map.plot(clip_interval=[5, 99.8]*u.percent, cmap=\"viridis\")"
   ]
  },
  {
   "cell_type": "code",
   "execution_count": null,
   "id": "0d986faf-058e-4587-9f6c-d0a4a7967f15",
   "metadata": {},
   "outputs": [],
   "source": [
    "fig = plt.figure()\n",
    "aia_map.plot(clip_interval=[5, 99.8]*u.percent)\n",
    "aia_map.draw_limb(color='b')\n",
    "aia_map.draw_grid()"
   ]
  },
  {
   "cell_type": "markdown",
   "id": "1b9e004b-b59e-4e34-9746-1cfe4622b833",
   "metadata": {},
   "source": [
    "## Attributes of Map\n",
    "\n",
    "Map has a set of attributes which give access to common metadata, which provides a consistent interface for different instruments, lets look at some of these here\n",
    "The `.meta` and `.data` attributes provide access to the metadata and underlying array of image data, respectively.\n"
   ]
  },
  {
   "cell_type": "code",
   "execution_count": null,
   "id": "0652b5d9-97de-4c49-9853-a5e1f6beab0b",
   "metadata": {},
   "outputs": [],
   "source": [
    "aia_map.data"
   ]
  },
  {
   "cell_type": "code",
   "execution_count": null,
   "id": "491971d0-fe9c-4ab3-9258-64e4f67c77aa",
   "metadata": {},
   "outputs": [],
   "source": [
    "aia_map.wavelength"
   ]
  },
  {
   "cell_type": "code",
   "execution_count": null,
   "id": "2811bd2d-e29c-41dc-acbc-a667a66262d9",
   "metadata": {},
   "outputs": [],
   "source": [
    "aia_map.processing_level"
   ]
  },
  {
   "cell_type": "code",
   "execution_count": null,
   "id": "debf327f-0425-4925-9743-854b176897ab",
   "metadata": {},
   "outputs": [],
   "source": [
    "aia_map.max()"
   ]
  },
  {
   "cell_type": "markdown",
   "id": "1f7e5180-7016-40bc-abb8-777ecd5310d2",
   "metadata": {},
   "source": [
    "### Coordinate Information\n",
    "\n",
    "Each `Map` also exposes information about which coordinate system the image was taken in, including the location of the spacecraft that recorded that observation.\n",
    "\n",
    "`sunpy` leverages and extends the powerful astropy coordinate framework that we heard about in the previous tutorial. Additionally, we'll talk more about the sunpy.coordinates subpackage in the next notebook and show some neat examples.\n",
    "\n",
    "For each `Map`, we can easily access what coordinate frame the observation cooresponds to."
   ]
  },
  {
   "cell_type": "markdown",
   "id": "b7cd271e-c2f8-4a50-a942-efc91b90b564",
   "metadata": {},
   "source": [
    "This tells us that the coordinate system of the image is Helioprojective (HPC) and that it is defined by an observer at a particular location. This observer coordinate is also provided as an attribute,"
   ]
  },
  {
   "cell_type": "code",
   "execution_count": null,
   "id": "84b7322c-91d5-477f-b0c2-fa1ab1a01c04",
   "metadata": {},
   "outputs": [],
   "source": [
    "aia_map.coordinate_frame"
   ]
  },
  {
   "cell_type": "code",
   "execution_count": null,
   "id": "edd83706-07f6-4bb6-983f-b633605d5587",
   "metadata": {},
   "outputs": [],
   "source": [
    "aia_map.observer_coordinate"
   ]
  },
  {
   "cell_type": "code",
   "execution_count": null,
   "id": "058f20e6-28dd-4c06-912f-a3565f324434",
   "metadata": {},
   "outputs": [],
   "source": [
    "aia_map.bottom_left_coord"
   ]
  },
  {
   "cell_type": "markdown",
   "id": "53a4a14b-414c-482c-8f62-5b90edf52512",
   "metadata": {},
   "source": [
    "## World and Pixel coordinates\n",
    "\n",
    "But what if we wanted to know what pixel these physical coordinates correspond to? Each Map has an associated World Coordinate System, or WCS, which is derived from the underlying metadata and expressed as an astropy.wcs.WCS object. The WCS is accessible as an attribute`aia_map.wcs`\n",
    "\n",
    "WCS provides the transformation between the pixel coordinates of the image and physical or “world” coordinates. We can convert between the world coordinates (arcsec) to pixel coordinates using the `world_to_pixel` method on map which takes a `SkyCoord` and then returns the pixel coordinate. Similarly we can find the world coordinate to the pixel (or array) index. This is done with the `pixel_to_world` method. Lets first look at finding the array (pixel) index for the center of the Sun (0, 0) arcsec:"
   ]
  },
  {
   "cell_type": "code",
   "execution_count": null,
   "id": "fe36b0f2-29fa-44a4-8bfb-fec306ac4870",
   "metadata": {},
   "outputs": [],
   "source": [
    "aia_map.world_to_pixel(SkyCoord(0*u.arcsec, 0*u.arcsec, frame=aia_map.coordinate_frame))"
   ]
  },
  {
   "cell_type": "code",
   "execution_count": null,
   "id": "168b6768-8419-4f20-a1eb-9ea3130ff31c",
   "metadata": {},
   "outputs": [],
   "source": [
    "aia_map.pixel_to_world(0*u.pix, 0*u.pix)"
   ]
  },
  {
   "cell_type": "markdown",
   "id": "ca541d1b-deec-4f4c-b9a7-d56a03f5bf5d",
   "metadata": {},
   "source": [
    "# Crop a map\n",
    "\n",
    "We commonly want to pare down our full field-of-view to a particular region of interest.\n",
    "With a map, we can do this using the `submap` method.\n",
    "\n",
    "To crop a map, we can pass either a SkyCoord (i.e. a coordinate in space), or in pixel space (i.e. by passing pixel coordinates).\n",
    "\n",
    "We can specify the region of our submap using world coordinates as specified by a `SkyCoord`.\n",
    "These coordinates can be specified in different coordinate systems and still should work (e.g. helioprojective or heliograhic stonyhurst)\n"
   ]
  },
  {
   "cell_type": "code",
   "execution_count": null,
   "id": "1de39ab3-f137-4da0-835f-c3c59b5070e4",
   "metadata": {},
   "outputs": [],
   "source": [
    "bottom_left = SkyCoord(-300*u.arcsec, 20*u.arcsec, frame=aia_map.coordinate_frame)\n",
    "top_right = SkyCoord(390*u.arcsec, 650*u.arcsec, frame=aia_map.coordinate_frame)"
   ]
  },
  {
   "cell_type": "code",
   "execution_count": null,
   "id": "05d9b41f-4ea7-413a-92b5-56e480c3dbdf",
   "metadata": {},
   "outputs": [],
   "source": [
    "submap = aia_map.submap(bottom_left, top_right=top_right)"
   ]
  },
  {
   "cell_type": "code",
   "execution_count": null,
   "id": "a7942f01-9b3f-4a41-b9bb-6954c501f2a0",
   "metadata": {},
   "outputs": [],
   "source": [
    "fig = plt.figure()\n",
    "submap.plot(clip_interval=[1, 99.9]*u.percent)"
   ]
  },
  {
   "cell_type": "code",
   "execution_count": null,
   "id": "ce2b828b-5c5d-4d58-94eb-5d49ae64d75c",
   "metadata": {},
   "outputs": [],
   "source": [
    "fig = plt.figure(figsize=(11, 5))\n",
    "ax1 = fig.add_subplot(1,2,1,projection=aia_map)\n",
    "aia_map.plot(axes=ax1, clip_interval=(0.1, 99.99)*u.percent)\n",
    "\n",
    "aia_map.draw_quadrangle(bottom_left, \n",
    "                        top_right=top_right, \n",
    "                        axes=ax1)\n",
    "\n",
    "ax2 = fig.add_subplot(1,2,2,projection=submap)\n",
    "submap.plot(clip_interval=(0.5, 99.95)*u.percent)"
   ]
  },
  {
   "cell_type": "markdown",
   "id": "c3ea30aa-f1c6-4545-b604-2c36c4ed78ce",
   "metadata": {},
   "source": [
    "## Resampling a Map"
   ]
  },
  {
   "cell_type": "code",
   "execution_count": null,
   "id": "b36eda27-a824-4137-9108-ff7cf51d33fe",
   "metadata": {},
   "outputs": [],
   "source": [
    "aia_map.resample([40, 40] * u.pixel).plot()"
   ]
  },
  {
   "cell_type": "markdown",
   "id": "cc84dd50-b2a3-45e8-928a-0cdc4940dc47",
   "metadata": {},
   "source": [
    "## A note on plotting with WCSAxes\n",
    "\n",
    "SunPy map uses the [`astropy.visualization.wcsaxes`](https://docs.astropy.org/en/stable/visualization/wcsaxes/index.html#module-astropy.visualization.wcsaxes) module to represent world coordinates. \n",
    "\n",
    "Using WCSAxes is very powerful but has important concepts to think about:\n",
    "\n",
    " * **`world`** coordinates refer to the coordinates of the coordinate system - i.e. arcsec, degrees!\n",
    " * **`pixel`** coordinates refer to the array index of the data! i.e. data[10, 10] etc\n",
    " \n",
    " \n",
    "When plotting on WCSAxes it will by default plot in pixel coordinates, you can override this behavior and plot in `world` coordinates by getting the transformation from the axes with `ax.get_transform('world')`. We will use some of these examples below. Its also important to note that when using the `world` coordinates these have to be in **degrees** so make sure to convert arcsec's to degrees."
   ]
  },
  {
   "cell_type": "code",
   "execution_count": null,
   "id": "8202888b-19eb-4ac5-8780-f89d2dbe46cb",
   "metadata": {},
   "outputs": [],
   "source": [
    "fig = plt.figure(figsize=(6, 6))\n",
    "ax = plt.subplot(projection=aia_map)  \n",
    "\n",
    "# plot the map\n",
    "aia_map.plot(clip_interval=[0.5, 99.99]*u.percent)\n",
    "aia_map.draw_limb()\n",
    "aia_map.draw_grid()\n",
    "\n",
    "# plot in pixel coordinates\n",
    "ax.plot(200, 200, marker='o', color=\"b\",  label=\"Pixel coord\")\n",
    "\n",
    "# plot in world coordinates\n",
    "ax.plot((200*u.arcsec).to(u.deg), (200*u.arcsec).to(u.deg),\n",
    "        transform=ax.get_transform('world'), \n",
    "        marker='o',color=\"g\", label=\"World Coord\")\n",
    "ax.legend()"
   ]
  },
  {
   "cell_type": "markdown",
   "id": "59b0ec3d-1c97-4605-a372-4a016b1628d9",
   "metadata": {},
   "source": [
    "\n",
    "\n",
    "You can also plot SkyCoords on a Map. Importantly, this can be done with ax.plot_coord and the coordinate does not need to be transformed to the same coordinate frame as the map - it is done automatically if it can be\n"
   ]
  },
  {
   "cell_type": "code",
   "execution_count": null,
   "id": "b674d55b-14c6-477e-852d-5c5e4d126ea6",
   "metadata": {},
   "outputs": [],
   "source": [
    "coord1 = SkyCoord(200*u.arcsec, -500*u.arcsec, frame=aia_map.coordinate_frame)\n",
    "coord2 = SkyCoord(20*u.deg, 30*u.deg, frame=frames.HeliographicStonyhurst)"
   ]
  },
  {
   "cell_type": "code",
   "execution_count": null,
   "id": "b2c7f2ae-8f02-4b0a-b32d-36e7c62466dd",
   "metadata": {},
   "outputs": [],
   "source": [
    "fig = plt.figure(figsize=(6, 6))\n",
    "\n",
    "ax = fig.add_subplot(projection=aia_map)\n",
    "aia_map.plot(axes=ax, clip_interval=[0.5, 99.99]*u.percent)\n",
    "\n",
    "aia_map.draw_grid(axes=ax)\n",
    "\n",
    "ax.plot_coord(coord1, marker='o', ms=10, color='b')\n",
    "ax.plot_coord(coord2, marker='x', ms=10, color='b')"
   ]
  },
  {
   "cell_type": "markdown",
   "id": "0f36d258-98ef-4424-b8b8-aee24a4efeb6",
   "metadata": {},
   "source": [
    "# Sequence of Maps\n",
    "\n",
    "A MapSequence is an ordered list of maps. By default, the maps are ordered by their observation date, from earliest to latest date. Lets use a time list of maps that we have already downloaded and generate them into a movie. "
   ]
  },
  {
   "cell_type": "code",
   "execution_count": null,
   "id": "353e73ee-7b54-4dc5-80b1-dd2d55f3f15a",
   "metadata": {},
   "outputs": [],
   "source": [
    "aia_files = [sunpy.data.sample.AIA_193_CUTOUT01_IMAGE,\n",
    "             sunpy.data.sample.AIA_193_CUTOUT02_IMAGE,\n",
    "             sunpy.data.sample.AIA_193_CUTOUT03_IMAGE,\n",
    "             sunpy.data.sample.AIA_193_CUTOUT04_IMAGE,\n",
    "             sunpy.data.sample.AIA_193_CUTOUT05_IMAGE,]"
   ]
  },
  {
   "cell_type": "code",
   "execution_count": null,
   "id": "d723a5c2-bde2-4959-b814-528801fbc7b1",
   "metadata": {},
   "outputs": [],
   "source": [
    "aia_map_sequence = sunpy.map.Map(aia_files, sequence=True)"
   ]
  },
  {
   "cell_type": "code",
   "execution_count": null,
   "id": "c3130ee1-726c-407e-b72e-cca6f898f909",
   "metadata": {},
   "outputs": [],
   "source": [
    "aia_map_sequence[0].plot()"
   ]
  },
  {
   "cell_type": "code",
   "execution_count": null,
   "id": "c3834f3a-f8dd-43d2-81d2-a51d842a4645",
   "metadata": {},
   "outputs": [],
   "source": [
    "ani = aia_map_sequence.plot(cmap=aia_map_sequence[0].plot_settings['cmap'],\n",
    "                            norm=ImageNormalize(vmin=1, vmax=1e4,\n",
    "                                        stretch=aia_map_sequence[0].plot_settings['norm'].stretch))\n",
    "ani.save('aia-maps-seq.mp4', fps=15, dpi=300)"
   ]
  },
  {
   "cell_type": "code",
   "execution_count": null,
   "id": "bd1ce4b9-22ab-4867-98a5-3c4e6d4b17ec",
   "metadata": {},
   "outputs": [],
   "source": [
    "from IPython.display import HTML\n",
    "\n",
    "HTML(\"\"\"\n",
    "<div align=\"middle\">\n",
    "<video width=\"60%\" controls>\n",
    "      <source src=\"aia-maps-seq.mp4\" type=\"video/mp4\">\n",
    "</video>\n",
    "</div>\"\"\")"
   ]
  },
  {
   "cell_type": "code",
   "execution_count": null,
   "id": "878327b2-3394-43fb-9f1f-487285dd5620",
   "metadata": {},
   "outputs": [],
   "source": [
    "## Running Difference"
   ]
  },
  {
   "cell_type": "code",
   "execution_count": null,
   "id": "08536dc6-9243-4a37-b22a-4277ef3a0aa2",
   "metadata": {},
   "outputs": [],
   "source": [
    "aia_diff_map = (aia_map_sequence[1] - aia_map_sequence[0].quantity)"
   ]
  },
  {
   "cell_type": "code",
   "execution_count": null,
   "id": "5b567a42-d5cd-4246-8dc7-a820d17b2fab",
   "metadata": {},
   "outputs": [],
   "source": [
    "aia_diff_map.plot(norm=colors.Normalize(), vmin=-500, vmax=500, cmap=\"binary\")\n",
    "aia_diff_map.draw_limb()\n",
    "plt.colorbar()"
   ]
  },
  {
   "cell_type": "code",
   "execution_count": null,
   "id": "66259985-37cc-413d-99a7-99aa355bcb63",
   "metadata": {},
   "outputs": [],
   "source": [
    "aia_diff_deq = sunpy.map.Map(\n",
    "    [m - prev_m.quantity for m, prev_m in zip(aia_map_sequence[1:], aia_map_sequence[:-1])],\n",
    "    sequence=True\n",
    ")"
   ]
  },
  {
   "cell_type": "code",
   "execution_count": null,
   "id": "5bc80a53-815f-4dc1-b92b-d7d4831e0882",
   "metadata": {},
   "outputs": [],
   "source": [
    "ani = aia_diff_deq.plot( title='Running Difference', \n",
    "                         norm=colors.Normalize(vmin=-500, vmax=500), cmap='Greys_r')\n",
    "ani.save('diff_aia-maps-seq.mp4', fps=15, dpi=300)"
   ]
  },
  {
   "cell_type": "code",
   "execution_count": null,
   "id": "455469ae-2af0-4735-8c7f-61ad24dc4405",
   "metadata": {},
   "outputs": [],
   "source": [
    "HTML(\"\"\"\n",
    "<div align=\"middle\">\n",
    "<video width=\"60%\" controls>\n",
    "      <source src=\"diff_aia-maps-seq.mp4\" type=\"video/mp4\">\n",
    "</video>\n",
    "</div>\"\"\")"
   ]
  },
  {
   "cell_type": "markdown",
   "id": "38215690-aea4-4e6c-9e12-38e8fb69f6be",
   "metadata": {},
   "source": [
    "# 3. Coordinates\n",
    "\n",
    "SunPy uses [`astropy.coordinates`](https://docs.astropy.org/en/stable/coordinates/index.html) to represent points in physical space. This applies to both points in 3D space and projected coordinates in images.\n",
    "\n",
    "The SunPy coordinate framework extends the Astropy coordinates framework, and the coordinates subpackage of sunpy provides: \n",
    "\n",
    "* A robust framework for working with solar-physics coordinate systems\n",
    "\n",
    "* Functions to obtain the locations of solar-system bodies (sunpy.coordinates.ephemeris)\n",
    "\n",
    "* Functions to calculate Sun-specific coordinate information (sunpy.coordinates.sun)\n",
    "\n",
    "* Bridge module to enable the use of the SkyCoord API to perform computations using SPICE kernels (sunpy.coordinates.spice)\n",
    "\n",
    "\n",
    "We've already had some introduction to the coordinate framework above!"
   ]
  },
  {
   "cell_type": "markdown",
   "id": "0692c68a-dc57-4617-8df2-41ce34976bde",
   "metadata": {},
   "source": [
    "## Positions of solar system bodies\n",
    "`sunpy.coordinates` provides functions to obtain the coordinates of solar-system bodies.\n",
    "The function `get_body_heliographic_stonyhurst` which will return the location of the solar-system body in the `HeliographicStonyhurst` frame.\n",
    "\n",
    "For other solar-system bodies (e.g., major man-made spacecraft or comets), you can use `get_horizons_coord()`, which queries JPL HORIZONS:"
   ]
  },
  {
   "cell_type": "code",
   "execution_count": null,
   "id": "efec3e79-16af-487d-ade0-9de86e4b61cb",
   "metadata": {},
   "outputs": [],
   "source": [
    "earth_pos = get_body_heliographic_stonyhurst(\"earth\", \"2022-04-02\")"
   ]
  },
  {
   "cell_type": "code",
   "execution_count": null,
   "id": "a634ee08-f01b-446c-a43c-d3c63fa36d59",
   "metadata": {},
   "outputs": [],
   "source": [
    "solo_pos = get_horizons_coord(\"solar orbiter\", \"2022-04-02\")"
   ]
  },
  {
   "cell_type": "code",
   "execution_count": null,
   "id": "23f18b4e-b43e-41de-a831-382cfe2b02e0",
   "metadata": {},
   "outputs": [],
   "source": [
    "fig = plt.figure(dpi=120)\n",
    "ax = fig.add_subplot(projection='polar')\n",
    "\n",
    "ax.plot(solo_pos.lon.to('rad'), solo_pos.radius,\n",
    "        '.', markersize=10, label='Solar Orbiter', color='r')\n",
    "ax.plot(earth_pos.lon.to('rad'), earth_pos.radius,\n",
    "        '.', markersize=10, label='Earth', color='b')\n",
    "ax.plot(0, 0, markersize=10, marker='o', color='yellow')\n",
    "\n",
    "ax.legend(loc='lower right')\n",
    "ax.set_theta_zero_location(\"S\")\n",
    "ax.set_title('Positions in Heliographic Stonyhurst (HGS)')"
   ]
  },
  {
   "cell_type": "code",
   "execution_count": null,
   "id": "556980a7-756f-4a2d-8ce7-473dc0ce38d8",
   "metadata": {},
   "outputs": [],
   "source": [
    "image_res = Fido.search(a.Time(\"2022-04-02 13:00\", \"2022-04-02 13:10\"),\n",
    "                       (a.Instrument.aia & a.Wavelength(171*u.angstrom) & a.Sample(10*u.min)) | \n",
    "                       (a.Instrument.eui & a.Level(2) & a.soar.Product(\"EUI-FSI174-IMAGE\")))"
   ]
  },
  {
   "cell_type": "code",
   "execution_count": null,
   "id": "e8beef4b-2dbc-4f64-9adc-ef4d6db27486",
   "metadata": {},
   "outputs": [],
   "source": [
    "Fido.fetch(image_res, path=\"./{instrument}/{file}\")"
   ]
  },
  {
   "cell_type": "code",
   "execution_count": null,
   "id": "37f22b9d-6ed3-4750-84a3-907b6dd97768",
   "metadata": {},
   "outputs": [],
   "source": [
    "aia_map = sunpy.map.Map(\"AIA/aia.lev1.171A_2022_04_02T13_00_09.35Z.image_lev1.fits\")"
   ]
  },
  {
   "cell_type": "code",
   "execution_count": null,
   "id": "595a7a13-deba-4877-846a-4277b2eaac8b",
   "metadata": {},
   "outputs": [],
   "source": [
    "eui_map = sunpy.map.Map(\"EUI/solo_L2_eui-fsi174-image_20220402T130045231_V01.fits\")"
   ]
  },
  {
   "cell_type": "code",
   "execution_count": null,
   "id": "bc1b8c6c-b9a4-44ce-8b60-c8fdc6c4635f",
   "metadata": {},
   "outputs": [],
   "source": [
    "fig = plt.figure(figsize=(11, 5))\n",
    "ax1 = fig.add_subplot(1,2,1,projection=aia_map)\n",
    "ax2 = fig.add_subplot(1,2,2,projection=eui_map)\n",
    "\n",
    "aia_map.plot(axes=ax1, clip_interval=[5, 99.9]*u.percent)\n",
    "aia_map.draw_grid()\n",
    "eui_map.plot(axes=ax2)\n",
    "eui_map.draw_grid()"
   ]
  },
  {
   "cell_type": "markdown",
   "id": "7e21f35e-cfba-4458-8565-25976a06bc93",
   "metadata": {},
   "source": [
    "### Plot the solar limb as seen from EUI on AIA map\n",
    "We can plot the solar limb as seen from EUI on the AIA map"
   ]
  },
  {
   "cell_type": "code",
   "execution_count": null,
   "id": "be928bc7-9538-4344-bba0-9672b7ce02cb",
   "metadata": {},
   "outputs": [],
   "source": [
    "fig = plt.figure(figsize=(6, 6))\n",
    "\n",
    "ax1 = fig.add_subplot(projection=aia_map)\n",
    "aia_map.plot(axes=ax1, clip_interval=[5, 99.9]*u.percent)\n",
    "aia_map.draw_limb(axes=ax1, color='white')\n",
    "eui_map.draw_limb(axes=ax1, color='blue', label=\"EUI limb\")\n",
    "plt.legend()"
   ]
  },
  {
   "cell_type": "code",
   "execution_count": null,
   "id": "db1c9297-69cc-4311-92b6-c8d6014a5155",
   "metadata": {},
   "outputs": [],
   "source": [
    "fig = plt.figure(figsize=(6, 6))\n",
    "\n",
    "ax1 = fig.add_subplot(projection=eui_map)\n",
    "eui_map.plot(axes=ax1)\n",
    "eui_map.draw_limb(axes=ax1, color='white')\n",
    "aia_map.draw_limb(axes=ax1, color='green', label=\"AIA limb\")\n",
    "plt.legend()\n",
    "\n"
   ]
  },
  {
   "cell_type": "markdown",
   "id": "169a4521-0979-4639-b16b-0ce82fe65262",
   "metadata": {},
   "source": [
    "## The solar flare and eruption is both seen by SDO/AIA and from SolO/EUI, just from two different points of view.\n",
    "\n",
    "Lets define the point and plot the point of the flare as seen by AIA"
   ]
  },
  {
   "cell_type": "code",
   "execution_count": null,
   "id": "5290bff1-c9c3-4d7c-8b6f-aa6bb186acfd",
   "metadata": {},
   "outputs": [],
   "source": [
    "flare_coord_aia = SkyCoord(830*u.arcsec, 263*u.arcsec, frame=aia_map.coordinate_frame)"
   ]
  },
  {
   "cell_type": "code",
   "execution_count": null,
   "id": "14f3aebc-1bd7-46e8-a98e-503c7ab02648",
   "metadata": {},
   "outputs": [],
   "source": [
    "fig = plt.figure(figsize=(6, 6))\n",
    "ax = fig.add_subplot(projection=aia_map)\n",
    "aia_map.plot()\n",
    "ax.plot_coord(flare_coord_aia, marker='X', color='b', ms=10)"
   ]
  },
  {
   "cell_type": "code",
   "execution_count": null,
   "id": "adc05045-b03f-4444-a62e-5b46601960b5",
   "metadata": {},
   "outputs": [],
   "source": [
    "fig = plt.figure(figsize=(6, 6))\n",
    "ax = fig.add_subplot(projection=eui_map)\n",
    "eui_map.plot()\n",
    "ax.plot_coord(flare_coord_aia, marker='X', color='b', ms=10)"
   ]
  },
  {
   "cell_type": "markdown",
   "id": "62a49491-4319-4d42-886f-2cb3fa561fa3",
   "metadata": {},
   "source": [
    "## Reproject AIA to field of view of Solo\n",
    "\n",
    "Lets say for this observation, we want to identify what the AIA field of view looks like from the observer of Solar Orbiter. We can do this by using `reproject`.\n",
    "\n",
    "For the sake of computation, lets reduce the size of the AIA map to [512, 512] pixels."
   ]
  },
  {
   "cell_type": "code",
   "execution_count": null,
   "id": "964ba128-5f27-4416-9c14-3eeadcd451ed",
   "metadata": {},
   "outputs": [],
   "source": [
    "aia_map = aia_map.resample((512, 512)*u.pix)"
   ]
  },
  {
   "cell_type": "markdown",
   "id": "ecc33303-bc17-4613-b402-8f2ec7697bac",
   "metadata": {},
   "source": [
    "The role of \"rsun\" is important in sunpy, and different teams define \"rsun\" slighly differently in their fits metadata as rsun_ref, however they need to be the same to do reprojections-  see https://docs.sunpy.org/en/stable/topic_guide/rsun.html for more details on this. "
   ]
  },
  {
   "cell_type": "code",
   "execution_count": null,
   "id": "5744a474-6001-4f48-8cce-12aaa3ac211d",
   "metadata": {},
   "outputs": [],
   "source": [
    "eui_map.meta[\"rsun_ref\"] = sunpy.sun.constants.radius.to_value(u.m)\n",
    "aia_map.meta[\"rsun_ref\"] = sunpy.sun.constants.radius.to_value(u.m)"
   ]
  },
  {
   "cell_type": "code",
   "execution_count": null,
   "id": "d381ccbb-3daa-491a-9eaa-d309d762a440",
   "metadata": {},
   "outputs": [],
   "source": [
    "eui_map_reproject_aia = eui_map.reproject_to(aia_map.wcs)\n",
    "eui_map_reproject_aia.plot()\n",
    "eui_map_reproject_aia.draw_limb(color='g')"
   ]
  },
  {
   "cell_type": "code",
   "execution_count": null,
   "id": "88892c4a-b913-4e90-b22b-03fce2d4dbe3",
   "metadata": {},
   "outputs": [],
   "source": [
    "aia_map_reproject_eui = aia_map.reproject_to(eui_map.wcs)\n",
    "\n",
    "aia_map_reproject_eui.plot()\n",
    "aia_map_reproject_eui.draw_limb(color='k')"
   ]
  },
  {
   "cell_type": "markdown",
   "id": "e9fd08cd-cd06-4795-b7d7-00b584ac8716",
   "metadata": {},
   "source": [
    "# Kink oscillation loop example\n",
    "\n",
    "Let use the tools we've just learnt about to do study some loop oscillations in the solar corona as observed by SDO AIA. Here, we can look at the kink mode oscillations. \n",
    "The active region of interest here is taken from Goddard et al. 2016 - see https://www.aanda.org/articles/aa/abs/2016/01/aa27341-15/aa27341-15.html.\n",
    "\n",
    "This is from an active region in 2012-10-20 and kink mode oscillations assocaited with an M-class flare.\n",
    "\n",
    "We can use the observations from AIA to take a slice through the certain cuts and make time-distance plots"
   ]
  },
  {
   "cell_type": "code",
   "execution_count": null,
   "id": "a14b130b-386f-44a4-bac4-149b2809c2d8",
   "metadata": {},
   "outputs": [],
   "source": [
    "res = Fido.search(a.Time(\"2012-10-20T18:08:00\", \"2012-10-20 18:30\"), \n",
    "                  a.Instrument.aia, \n",
    "                  a.Wavelength(171*u.angstrom))\n",
    "\n",
    "f = Fido.fetch(res, path=\"./{instrument}/{file}\")"
   ]
  },
  {
   "cell_type": "code",
   "execution_count": null,
   "id": "88b3605c-41b5-40a2-bfbb-a3f1d90a0783",
   "metadata": {},
   "outputs": [],
   "source": [
    "aia_maps = []\n",
    "for filename in f:\n",
    "    m_aia_full = sunpy.map.Map(filename)\n",
    "    m_aia_full = m_aia_full/m_aia_full.exposure_time\n",
    "    bottom_left = SkyCoord(-1150*u.arcsec, -500*u.arcsec,  observer=m_aia_full.observer_coordinate, frame=\"helioprojective\")\n",
    "    top_right = SkyCoord(-850*u.arcsec, -30*u.arcsec,  observer=m_aia_full.observer_coordinate, frame=\"helioprojective\")\n",
    "    m_aia_cutout = m_aia_full.submap(bottom_left, top_right=top_right)\n",
    "    aia_maps.append(m_aia_cutout)\n",
    "aia_maps = sunpy.map.Map(aia_maps, sequence=True)"
   ]
  },
  {
   "cell_type": "code",
   "execution_count": null,
   "id": "a0b818ce-2324-4715-b34a-095b572ef3c2",
   "metadata": {},
   "outputs": [],
   "source": [
    "ani = aia_maps.plot(cmap=aia_maps[0].plot_settings['cmap'],\n",
    "                            norm=ImageNormalize(vmin=1, vmax=1e4,\n",
    "                                        stretch=aia_maps[0].plot_settings['norm'].stretch))\n",
    "ani.save('aia-maps-seq2.mp4', fps=15, dpi=300)"
   ]
  },
  {
   "cell_type": "code",
   "execution_count": null,
   "id": "d237dd0f-8ea9-4367-9e4b-a4e9643e6f3a",
   "metadata": {},
   "outputs": [],
   "source": [
    "HTML(\"\"\"\n",
    "<div align=\"middle\">\n",
    "<video width=\"60%\" controls>\n",
    "      <source src=\"aia-maps-seq2.mp4\" type=\"video/mp4\">\n",
    "</video>\n",
    "</div>\"\"\")"
   ]
  },
  {
   "cell_type": "markdown",
   "id": "18adf244-0b60-44c8-b2f4-c6e0d3d37de9",
   "metadata": {},
   "source": [
    "Lets define a line over some oscillating loops!"
   ]
  },
  {
   "cell_type": "code",
   "execution_count": null,
   "id": "af4fa06e-b9c5-49af-b099-aec6c8f2205d",
   "metadata": {},
   "outputs": [],
   "source": [
    "traced_loop = SkyCoord(\n",
    "    Tx=[-1060, -1030]*u.arcsec,\n",
    "    Ty=[-220, -230]*u.arcsec,\n",
    "    frame=aia_maps[0].coordinate_frame,\n",
    ")"
   ]
  },
  {
   "cell_type": "code",
   "execution_count": null,
   "id": "d6ae2fa4-59bb-43e5-8a18-069d5be46f88",
   "metadata": {},
   "outputs": [],
   "source": [
    "fig = plt.figure(figsize=(6, 10))\n",
    "ax = fig.add_subplot(projection=aia_maps[0])\n",
    "aia_maps[0].plot()\n",
    "ax.plot_coord(traced_loop, lw=2)"
   ]
  },
  {
   "cell_type": "markdown",
   "id": "f8a17bcf-8bb0-44d6-b7be-d44fe4d4139a",
   "metadata": {},
   "source": [
    "Next, we convert the world coordinates of the traced loop to pixel coordinates on the map. This is important because the map data is stored in pixel units, and by pixelating the path, we can ensure that the traced loop aligns with the pixel grid of the map.\n",
    "\n",
    "We use the `sunpy.map.pixelate_coord_path()` function, which takes the traced_loop coordinates and maps them onto the pixel grid of the `aia_maps[0]` solar image."
   ]
  },
  {
   "cell_type": "code",
   "execution_count": null,
   "id": "396b8181-6c93-43be-a2bd-010c1714b9f7",
   "metadata": {},
   "outputs": [],
   "source": [
    "traced_loop_pixelated = sunpy.map.pixelate_coord_path(aia_maps[0], traced_loop)\n"
   ]
  },
  {
   "cell_type": "code",
   "execution_count": null,
   "id": "6dd388ce-da8a-4828-adca-71d5dd8c6473",
   "metadata": {},
   "outputs": [],
   "source": [
    "traced_loop_pixelated"
   ]
  },
  {
   "cell_type": "markdown",
   "id": "bcae9394-8340-4dc0-944b-896d1bca202c",
   "metadata": {},
   "source": [
    "We now want to calculate the distance along the traced loop.\n",
    "We compute the separation distance between each point along the traced loop. This calculates the distance between the first point in the loop (traced_loop_pixelated[0]) and every other point along the pixelated loop path, giving us a measure of how far the loop extends in terms of physical distance on the map."
   ]
  },
  {
   "cell_type": "code",
   "execution_count": null,
   "id": "674e235e-cfb1-4a62-b1e8-3c2b5be3b247",
   "metadata": {},
   "outputs": [],
   "source": [
    "traced_loop_distance = traced_loop_pixelated.separation(traced_loop_pixelated[0])"
   ]
  },
  {
   "cell_type": "markdown",
   "id": "f326e96b-1a99-408e-8518-2c6ded5e5b0d",
   "metadata": {},
   "source": [
    "This gives us a quantified measurement of the loop’s length, which can later be used for further analysis of the solar structure, such as estimating the magnetic field properties or plasma flows along the loop."
   ]
  },
  {
   "cell_type": "code",
   "execution_count": null,
   "id": "6ef088ea-8d92-4398-9068-c82868586372",
   "metadata": {},
   "outputs": [],
   "source": [
    "traced_loop_distance"
   ]
  },
  {
   "cell_type": "markdown",
   "id": "9ce6da94-c64d-432c-9545-65af44b017ac",
   "metadata": {},
   "source": [
    "Next, we are extracting and interpolating intensity values along a traced loop from the series of `aia_maps`. We begin by looping through each map and converting the loop coordinates to pixel coordinates, ensuring alignment with the pixel grid of the map. For each map, we adjust the projection system to account for the observer's perspective and calculate the distance between each point along the pixelated loop. We then sample the intensity values along the loop and use linear interpolation to map these values to a consistent set of distance coordinates across all maps. The interpolated intensity values for each map are stored in intensity_stack, which is ultimately converted into a Quantity object for further analysis. This approach allows us to track how intensity evolves along the loop over the sequence of solar images."
   ]
  },
  {
   "cell_type": "code",
   "execution_count": null,
   "id": "23f879bf-d5dc-413f-bad9-0240c4a832cc",
   "metadata": {},
   "outputs": [],
   "source": [
    "intensity_stack = []\n",
    "for m in aia_maps:\n",
    "    with SphericalScreen(m.observer_coordinate):\n",
    "        _traced_loop_pixelated = sunpy.map.pixelate_coord_path(m, traced_loop)\n",
    "    _traced_loop_distance = _traced_loop_pixelated.separation(_traced_loop_pixelated[0])\n",
    "    intensity = sunpy.map.sample_at_coords(m, _traced_loop_pixelated)\n",
    "    f_interp = interp1d(_traced_loop_distance.to_value('arcsec'), intensity.value, fill_value='extrapolate', kind='linear')\n",
    "    intensity_interp = f_interp(traced_loop_distance.to_value('arcsec'))\n",
    "    intensity_stack.append(u.Quantity(intensity_interp, intensity.unit))\n",
    "intensity_stack = u.Quantity(intensity_stack)"
   ]
  },
  {
   "cell_type": "markdown",
   "id": "4c6d0f6c-157b-4fad-8c4c-439c1fe43bb8",
   "metadata": {},
   "source": [
    "lets get the time array and the distance along slit in arcsec"
   ]
  },
  {
   "cell_type": "code",
   "execution_count": null,
   "id": "256a211b-f66a-4678-9df8-045e9df3fcdc",
   "metadata": {},
   "outputs": [],
   "source": [
    "time_array = [m.date.datetime for m in aia_maps]\n",
    "distance = traced_loop_distance.to(u.arcsec)"
   ]
  },
  {
   "cell_type": "code",
   "execution_count": null,
   "id": "a5a66a1b-6f97-4827-a0fe-4dc1010754f8",
   "metadata": {},
   "outputs": [],
   "source": [
    "fig, ax = plt.subplots(figsize=(15, 5))\n",
    "plt.pcolormesh(time_array, distance.value, intensity_stack.value.T, \n",
    "               norm=ImageNormalize(stretch=AsinhStretch()), cmap=\"sdoaia171\")\n",
    "\n",
    "ax.set_ylabel(\"Distance along slit (arcsec)\")\n",
    "ax.set_xlabel(\"Time (UT) from {:s}\".format(time_array[0].strftime(\"%Y-%m-%d %H:%M\")))\n",
    "ax.xaxis.set_major_formatter(dates.DateFormatter(\"%H:%M:%S\"))"
   ]
  },
  {
   "cell_type": "code",
   "execution_count": null,
   "id": "ba737b46-a3de-4550-afd6-30f9fb7578b0",
   "metadata": {},
   "outputs": [],
   "source": [
    "fig = plt.figure(figsize=(12, 6))\n",
    "\n",
    "gs = fig.add_gridspec(2, 2, height_ratios=[3, 1])\n",
    "\n",
    "ax1 = fig.add_subplot(gs[:, 0], projection=aia_maps[0])\n",
    "\n",
    "ax2 = fig.add_subplot(gs[0, 1])\n",
    "\n",
    "aia_maps[0].plot(axes=ax1)\n",
    "ax1.plot_coord(traced_loop)\n",
    "\n",
    "\n",
    "ax2.pcolormesh(time_array, distance.value, intensity_stack.value.T, \n",
    "               norm=ImageNormalize(stretch=AsinhStretch()), cmap=\"sdoaia171\")\n",
    "ax2.set_ylabel(\"arcsec along slit\")\n",
    "ax2.set_xlabel(\"Time\")\n",
    "ax2.set_title(\"Time distance along slit\")\n",
    "ax2.xaxis.set_major_formatter(dates.DateFormatter(\"%H:%M\"))\n",
    "plt.tight_layout()\n"
   ]
  },
  {
   "cell_type": "code",
   "execution_count": null,
   "id": "d04242d4-bb45-40f1-b51f-7e80b1b16611",
   "metadata": {},
   "outputs": [],
   "source": []
  }
 ],
 "metadata": {
  "kernelspec": {
   "display_name": "Python 3 (ipykernel)",
   "language": "python",
   "name": "python3"
  },
  "language_info": {
   "codemirror_mode": {
    "name": "ipython",
    "version": 3
   },
   "file_extension": ".py",
   "mimetype": "text/x-python",
   "name": "python",
   "nbconvert_exporter": "python",
   "pygments_lexer": "ipython3",
   "version": "3.12.5"
  }
 },
 "nbformat": 4,
 "nbformat_minor": 5
}
